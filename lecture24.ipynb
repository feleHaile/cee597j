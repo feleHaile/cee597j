{
 "cells": [
  {
   "cell_type": "markdown",
   "metadata": {
    "slideshow": {
     "slide_type": "slide"
    }
   },
   "source": [
    "## Analytics on the cloud\n",
    "\n"
   ]
  },
  {
   "cell_type": "markdown",
   "metadata": {},
   "source": [
    "-   Deploy computing resources on the cloud\n",
    "-   But what if we want to perform operations within frameworks on the cloud?\n",
    "-   We will focus on Google Earth Engine but other solutions exist\n",
    "\n"
   ]
  },
  {
   "cell_type": "markdown",
   "metadata": {
    "slideshow": {
     "slide_type": "slide"
    }
   },
   "source": [
    "## Google Earth Engine\n",
    "\n"
   ]
  },
  {
   "cell_type": "markdown",
   "metadata": {},
   "source": [
    "![img](images/ee.png)\n",
    "\n"
   ]
  },
  {
   "cell_type": "markdown",
   "metadata": {
    "slideshow": {
     "slide_type": "slide"
    }
   },
   "source": [
    "## Many available datasets\n",
    "\n"
   ]
  },
  {
   "cell_type": "markdown",
   "metadata": {},
   "source": [
    "Let's [take a look&#x2026;](https://developers.google.com/earth-engine/datasets/)\n",
    "\n"
   ]
  },
  {
   "cell_type": "markdown",
   "metadata": {
    "slideshow": {
     "slide_type": "slide"
    }
   },
   "source": [
    "## Code Editor\n",
    "\n"
   ]
  },
  {
   "cell_type": "markdown",
   "metadata": {},
   "source": [
    "One way to access [Google Earth Engine](https://code.earthengine.google.com/)\n",
    "\n"
   ]
  },
  {
   "cell_type": "markdown",
   "metadata": {
    "slideshow": {
     "slide_type": "slide"
    }
   },
   "source": [
    "## Let's install the GEE Python API\n",
    "\n"
   ]
  },
  {
   "cell_type": "markdown",
   "metadata": {},
   "source": [
    "    conda install -c conda-forge google-api-python-client earthengine-api\n",
    "    earthengine authenticate\n",
    "\n"
   ]
  },
  {
   "cell_type": "markdown",
   "metadata": {
    "slideshow": {
     "slide_type": "slide"
    }
   },
   "source": [
    "## Let's test the installation\n",
    "\n"
   ]
  },
  {
   "cell_type": "code",
   "execution_count": 1,
   "metadata": {},
   "outputs": [],
   "source": [
    "import ee\n",
    "ee.Initialize()\n",
    "image = ee.Image('srtm90_v4')\n",
    "print(image.getInfo())"
   ]
  },
  {
   "cell_type": "markdown",
   "metadata": {
    "slideshow": {
     "slide_type": "slide"
    }
   },
   "source": [
    "## Now let's look at a map\n",
    "\n"
   ]
  },
  {
   "cell_type": "code",
   "execution_count": 1,
   "metadata": {},
   "outputs": [],
   "source": [
    "from IPython.display import Image\n",
    "Image(url=srtm.getThumbUrl({'min':0, 'max':3000}))"
   ]
  },
  {
   "cell_type": "markdown",
   "metadata": {
    "slideshow": {
     "slide_type": "slide"
    }
   },
   "source": [
    "-   Unfortunately visualization is bit limited with Python\n",
    "-   In some cases, the Code Editor might be better suited for our analysis\n",
    "\n"
   ]
  },
  {
   "cell_type": "markdown",
   "metadata": {
    "slideshow": {
     "slide_type": "slide"
    }
   },
   "source": [
    "## By default, the image will have global extent so let's try to visualize a region\n",
    "\n"
   ]
  },
  {
   "cell_type": "code",
   "execution_count": 1,
   "metadata": {},
   "outputs": [],
   "source": [
    "point = ee.Geometry.Point(-72.5199, 42.373)\n",
    "region_amherst_area = point.buffer(500000).bounds().getInfo()['coordinates']\n",
    "Image(url=srtm.getThumbUrl({'min':0, 'max':1000, 'region':region_amherst_area}))"
   ]
  },
  {
   "cell_type": "markdown",
   "metadata": {
    "slideshow": {
     "slide_type": "slide"
    }
   },
   "source": [
    "## Working with image collections\n",
    "\n"
   ]
  },
  {
   "cell_type": "markdown",
   "metadata": {},
   "source": [
    "Let's go to the [Earth Engine Public Data Catalog](https://earthengine.google.org/#index) and look for the Landsat-8 TOA reflectance data\n",
    "\n"
   ]
  },
  {
   "cell_type": "markdown",
   "metadata": {
    "slideshow": {
     "slide_type": "slide"
    }
   },
   "source": [
    "## Create a reference to the image collection\n",
    "\n"
   ]
  },
  {
   "cell_type": "code",
   "execution_count": 1,
   "metadata": {},
   "outputs": [],
   "source": [
    "l8 = ee.ImageCollection('LANDSAT/LC8_L1T_TOA')"
   ]
  },
  {
   "cell_type": "markdown",
   "metadata": {
    "slideshow": {
     "slide_type": "slide"
    }
   },
   "source": [
    "## Filter the collection for a year\n",
    "\n"
   ]
  },
  {
   "cell_type": "code",
   "execution_count": 1,
   "metadata": {},
   "outputs": [],
   "source": [
    "filtered = l8.filterDate('2013-01-01', '2013-12-31');"
   ]
  },
  {
   "cell_type": "markdown",
   "metadata": {
    "slideshow": {
     "slide_type": "slide"
    }
   },
   "source": [
    "## Mosaic the images and calculate the median\n",
    "\n"
   ]
  },
  {
   "cell_type": "code",
   "execution_count": 1,
   "metadata": {},
   "outputs": [],
   "source": [
    "l8_image = filtered.median()"
   ]
  },
  {
   "cell_type": "markdown",
   "metadata": {
    "slideshow": {
     "slide_type": "slide"
    }
   },
   "source": [
    "## Let's create a map\n",
    "\n"
   ]
  },
  {
   "cell_type": "code",
   "execution_count": 1,
   "metadata": {},
   "outputs": [],
   "source": [
    "Image(url=l8_image.getThumbUrl({'region':region_amherst_area}))"
   ]
  },
  {
   "cell_type": "markdown",
   "metadata": {
    "slideshow": {
     "slide_type": "slide"
    }
   },
   "source": [
    "## Let's get a true-color image\n",
    "\n"
   ]
  },
  {
   "cell_type": "code",
   "execution_count": 1,
   "metadata": {},
   "outputs": [],
   "source": [
    "Image(url=l8_image.getThumbUrl({\n",
    "    'region':region_amherst_area,\n",
    "    'bands':'B4,B3,B2',\n",
    "    'min':0,\n",
    "    'max':0.3\n",
    "}))"
   ]
  },
  {
   "cell_type": "markdown",
   "metadata": {
    "slideshow": {
     "slide_type": "slide"
    }
   },
   "source": [
    "## Now let's get a false-color image\n",
    "\n"
   ]
  },
  {
   "cell_type": "code",
   "execution_count": 1,
   "metadata": {},
   "outputs": [],
   "source": [
    "Image(url=l8_image.getThumbUrl({\n",
    "    'region':region_amherst_area,\n",
    "    'bands':'B5,B4,B3',\n",
    "    'min':0,\n",
    "    'max':0.3\n",
    "}))"
   ]
  },
  {
   "cell_type": "markdown",
   "metadata": {
    "slideshow": {
     "slide_type": "slide"
    }
   },
   "source": [
    "## Time series analysis with Landsat data\n",
    "\n"
   ]
  },
  {
   "cell_type": "code",
   "execution_count": 1,
   "metadata": {},
   "outputs": [],
   "source": [
    "%matplotlib inline\n",
    "import datetime\n",
    "import numpy as np\n",
    "from matplotlib import dates\n",
    "import matplotlib.dates as mdates"
   ]
  },
  {
   "cell_type": "markdown",
   "metadata": {
    "slideshow": {
     "slide_type": "slide"
    }
   },
   "source": [
    "Define the bands we'd like to plot and the time period\n",
    "\n"
   ]
  },
  {
   "cell_type": "code",
   "execution_count": 1,
   "metadata": {},
   "outputs": [],
   "source": [
    "xBand = 'time'\n",
    "yBandList = ['B1', 'B2', 'B3', 'B4', 'B5']\n",
    "startTime = datetime.datetime(2014, 1, 1)\n",
    "endTime = datetime.datetime(2017, 1, 1)"
   ]
  },
  {
   "cell_type": "markdown",
   "metadata": {
    "slideshow": {
     "slide_type": "slide"
    }
   },
   "source": [
    "Construct a filtered image collection (let's pick Landsat-8) and extract information for a specific point\n",
    "\n"
   ]
  },
  {
   "cell_type": "code",
   "execution_count": 1,
   "metadata": {},
   "outputs": [],
   "source": [
    "collection = ee.ImageCollection('LANDSAT/LC08/C01/T1_SR').filterDate(startTime, endTime)\n",
    "point = {'type':'Point', 'coordinates':[ -116.88629, 36.56122]};  # death valley (should be stable)\n",
    "info = collection.getRegion(point,500).getInfo()"
   ]
  },
  {
   "cell_type": "markdown",
   "metadata": {
    "slideshow": {
     "slide_type": "slide"
    }
   },
   "source": [
    "## What is contained in info?\n",
    "\n"
   ]
  },
  {
   "cell_type": "code",
   "execution_count": 1,
   "metadata": {},
   "outputs": [],
   "source": [
    "header = info[0]\n",
    "header"
   ]
  },
  {
   "cell_type": "code",
   "execution_count": 1,
   "metadata": {
    "slideshow": {
     "slide_type": "slide"
    }
   },
   "outputs": [],
   "source": [
    "data = np.array(info[1:])\n",
    "data.shape"
   ]
  },
  {
   "cell_type": "markdown",
   "metadata": {
    "slideshow": {
     "slide_type": "slide"
    }
   },
   "source": [
    "## Get the time information\n",
    "\n"
   ]
  },
  {
   "cell_type": "code",
   "execution_count": 1,
   "metadata": {},
   "outputs": [],
   "source": [
    "it = header.index('time')\n",
    "time = np.array([datetime.datetime.fromtimestamp(i/1000) for i in (data[:, it].astype(float))])\n",
    "time"
   ]
  },
  {
   "cell_type": "markdown",
   "metadata": {
    "slideshow": {
     "slide_type": "slide"
    }
   },
   "source": [
    "## Extract the data (bands) we want\n",
    "\n"
   ]
  },
  {
   "cell_type": "code",
   "execution_count": 1,
   "metadata": {},
   "outputs": [],
   "source": [
    "iBands = [header.index(b) for b in yBandList]\n",
    "yData = data[0:,iBands].astype(np.float)"
   ]
  },
  {
   "cell_type": "markdown",
   "metadata": {
    "slideshow": {
     "slide_type": "slide"
    }
   },
   "source": [
    "## Plot Bands 3 and 4\n",
    "\n"
   ]
  },
  {
   "cell_type": "code",
   "execution_count": 1,
   "metadata": {},
   "outputs": [],
   "source": [
    "import matplotlib.pyplot as plt\n",
    "fig = plt.figure(figsize=(12,8))\n",
    "ax1 = fig.add_subplot(111)\n",
    "ax1.plot(time, yData[:,2], 'o', color=\"red\", label=\"Band 3\")\n",
    "ax1.plot(time, yData[:,3], 'o', color=\"magenta\",  label=\"Band 4\")\n",
    "ax1.legend(loc='best')\n",
    "ax1.grid(True)\n",
    "ax1.set_ylabel('Band Values')"
   ]
  },
  {
   "cell_type": "markdown",
   "metadata": {
    "slideshow": {
     "slide_type": "slide"
    }
   },
   "source": [
    "NDVI is given by $$\\frac{NIR - RED}{NIR + RED}$$\n",
    "\n",
    "Let's calculate it\n",
    "\n"
   ]
  },
  {
   "cell_type": "code",
   "execution_count": 1,
   "metadata": {},
   "outputs": [],
   "source": [
    "band3 = yData[:, 2]\n",
    "band5 = yData[:, 4]\n",
    "ndvi = (band5 - band3) / (band5 + band3)"
   ]
  },
  {
   "cell_type": "code",
   "execution_count": 1,
   "metadata": {
    "slideshow": {
     "slide_type": "slide"
    }
   },
   "outputs": [],
   "source": [
    "fig = plt.figure(figsize=(12,8))\n",
    "ax1 = fig.add_subplot(111)\n",
    "i = np.argsort(time)\n",
    "ax1.plot(time[i], ndvi[i], '-o', color=\"black\", label=\"NDVI\")\n",
    "ax1.grid(True)\n",
    "ax1.set_ylabel('NDVI')"
   ]
  },
  {
   "cell_type": "markdown",
   "metadata": {
    "slideshow": {
     "slide_type": "slide"
    }
   },
   "source": [
    "## What if we want to calculate NDVI images?\n",
    "\n"
   ]
  },
  {
   "cell_type": "markdown",
   "metadata": {},
   "source": [
    "We will write a function that calculated NDVI\n",
    "\n"
   ]
  },
  {
   "cell_type": "code",
   "execution_count": 1,
   "metadata": {},
   "outputs": [],
   "source": [
    "def AddBandNDVI(img):\n",
    "    red = img.select('B3')\n",
    "    nir = img.select('B5')\n",
    "    ndvi = (nir.subtract(red)).divide(nir.add(red)).rename('ndvi')\n",
    "    return img.addBands(ndvi)"
   ]
  },
  {
   "cell_type": "code",
   "execution_count": 1,
   "metadata": {
    "slideshow": {
     "slide_type": "slide"
    }
   },
   "outputs": [],
   "source": [
    "ndvi = collection.map(AddBandNDVI)\n",
    "print(ndvi.select('ndvi').getRegion(point, 500).getInfo())"
   ]
  },
  {
   "cell_type": "markdown",
   "metadata": {
    "slideshow": {
     "slide_type": "slide"
    }
   },
   "source": [
    "## Did someone say interactive maps?\n",
    "\n"
   ]
  },
  {
   "cell_type": "code",
   "execution_count": 1,
   "metadata": {},
   "outputs": [],
   "source": [
    "import ipyleaflet\n",
    "import ipywidgets\n",
    "import IPython.display"
   ]
  },
  {
   "cell_type": "markdown",
   "metadata": {
    "slideshow": {
     "slide_type": "slide"
    }
   },
   "source": [
    "Define a colormap for NDVI\n",
    "\n"
   ]
  },
  {
   "cell_type": "code",
   "execution_count": 1,
   "metadata": {},
   "outputs": [],
   "source": [
    "sld_ndvi = '''\n",
    "<RasterSymbolizer>\\\n",
    "  <ChannelSelection>\\\n",
    "    <GrayChannel>\\\n",
    "      <SourceChannelName>ndvi</SourceChannelName>\\\n",
    "    </GrayChannel>\\\n",
    "  </ChannelSelection>\\\n",
    "  <ColorMap>\\\n",
    "    <ColorMapEntry color=\"#000000\" quantity=\"0.0\" />\\\n",
    "    <ColorMapEntry color=\"#BFBD27\" quantity=\"0.1\" />\\\n",
    "    <ColorMapEntry color=\"#1EBFBE\" quantity=\"0.3\" />\\\n",
    "    <ColorMapEntry color=\"#29FD2F\" quantity=\"0.5\" />\\\n",
    "    <ColorMapEntry color=\"#1CBD20\" quantity=\"0.7\" />\\\n",
    "    <ColorMapEntry color=\"#0F7E12\" quantity=\"0.9\" />\\\n",
    "  </ColorMap>\\\n",
    "</RasterSymbolizer>\n",
    "'''\n",
    "ndvi_legend = ipywidgets.HTML('''\n",
    "<form>\n",
    " <fieldset>\n",
    "  <legend>NDVI:</legend>\n",
    "  <pre style=\"text-align:center;background-color:#777777;color:white\">0.0</pre>\n",
    "  <pre style=\"text-align:center;background-color:#BFBD27\">0.1</pre>\n",
    "  <pre style=\"text-align:center;background-color:#1EBFBE\">0.3</pre>\n",
    "  <pre style=\"text-align:center;background-color:#29FD2F\">0.5</pre>\n",
    "  <pre style=\"text-align:center;background-color:#1CBD20\">0.7</pre>\n",
    "  <pre style=\"text-align:center;background-color:#0F7E12\">0.9</pre>\n",
    " </fieldset>\n",
    "</form>\n",
    "''',\n",
    "layout=ipywidgets.Layout(width='100px'))"
   ]
  },
  {
   "cell_type": "markdown",
   "metadata": {
    "slideshow": {
     "slide_type": "slide"
    }
   },
   "source": [
    "## and then define a helper function\n",
    "\n"
   ]
  },
  {
   "cell_type": "code",
   "execution_count": 1,
   "metadata": {},
   "outputs": [],
   "source": [
    "def GetTileLayerUrl(ee_image_object):\n",
    "  map_id = ee.Image(ee_image_object).getMapId()\n",
    "  tile_url_template = \"https://earthengine.googleapis.com/map/{mapid}/{{z}}/{{x}}/{{y}}?token={token}\"\n",
    "  return tile_url_template.format(**map_id)"
   ]
  },
  {
   "cell_type": "markdown",
   "metadata": {
    "slideshow": {
     "slide_type": "slide"
    }
   },
   "source": [
    "## Set up our interactive map\n",
    "\n"
   ]
  },
  {
   "cell_type": "code",
   "execution_count": 1,
   "metadata": {},
   "outputs": [],
   "source": [
    "map_ndvi = ipyleaflet.Map(\n",
    "    zoom=4,\n",
    "    center=(-72.5199, 42.373),\n",
    "    layout={'height':'400px', 'width': '800px'}\n",
    ")\n",
    "display(ipywidgets.HBox([map_ndvi, ndvi_legend]))"
   ]
  },
  {
   "cell_type": "markdown",
   "metadata": {
    "slideshow": {
     "slide_type": "slide"
    }
   },
   "source": [
    "## and add the NDVI layer\n",
    "\n"
   ]
  },
  {
   "cell_type": "code",
   "execution_count": 1,
   "metadata": {},
   "outputs": [],
   "source": [
    "map_ndvi.add_layer(\n",
    "    ipyleaflet.TileLayer(\n",
    "        url=GetTileLayerUrl(\n",
    "            ndvi.filterDate('2014-01-01', '2014-03-01')\n",
    "                    .max()\n",
    "                    .sldStyle(sld_ndvi)\n",
    "        )\n",
    "    )\n",
    ")"
   ]
  },
  {
   "cell_type": "code",
   "execution_count": 1,
   "metadata": {
    "slideshow": {
     "slide_type": "slide"
    }
   },
   "outputs": [],
   "source": [
    "map_ndvi"
   ]
  }
 ],
 "metadata": {
  "celltoolbar": "Slideshow",
  "kernelspec": {
   "display_name": "Python 3",
   "language": "python",
   "name": "python3"
  },
  "language_info": {
   "codemirror_mode": {
    "name": "ipython",
    "version": 3
   },
   "file_extension": ".py",
   "mimetype": "text/x-python",
   "name": "python",
   "nbconvert_exporter": "python",
   "pygments_lexer": "ipython3",
   "version": "3.7.2"
  },
  "org": null
 },
 "nbformat": 4,
 "nbformat_minor": 1
}
