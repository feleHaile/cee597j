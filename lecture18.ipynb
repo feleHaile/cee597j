{
 "cells": [
  {
   "cell_type": "markdown",
   "metadata": {
    "slideshow": {
     "slide_type": "slide"
    }
   },
   "source": [
    "## MAP Feedback\n",
    "\n"
   ]
  },
  {
   "cell_type": "markdown",
   "metadata": {},
   "source": [
    "-   Pace during first couple of weeks was too fast\n",
    "-   More practice in class and more descriptive exercises\n",
    "-   Annotated PDFs of your homework solutions\n",
    "-   More focus on environmental engineering\n",
    "-   Confused about terminology\n",
    "\n"
   ]
  },
  {
   "cell_type": "markdown",
   "metadata": {
    "slideshow": {
     "slide_type": "slide"
    }
   },
   "source": [
    "## Statistical modeling\n",
    "\n"
   ]
  },
  {
   "cell_type": "markdown",
   "metadata": {},
   "source": [
    "`statsmodels` library for \n",
    "\n",
    "-   fitting many kinds of statistical models\n",
    "-   performing statistical tests\n",
    "-   data exploration and visualization\n",
    "\n"
   ]
  },
  {
   "cell_type": "markdown",
   "metadata": {
    "slideshow": {
     "slide_type": "slide"
    }
   },
   "source": [
    "### statsmodels\n",
    "\n"
   ]
  },
  {
   "cell_type": "markdown",
   "metadata": {},
   "source": [
    "-   Contains more \"classical\" frequentist statistical methods\n",
    "-   Bayesian methods and machine learning are found in other libraries\n",
    "-   Examples of kinds of models\n",
    "    -   Linear models, generalized linear models, and robust linear models\n",
    "    -   Linear mixed effects models\n",
    "    -   Analysis of variance (ANOVA) methods\n",
    "    -   Time series processes and state space models\n",
    "    -   Generalized method of moments\n",
    "\n"
   ]
  },
  {
   "cell_type": "markdown",
   "metadata": {
    "slideshow": {
     "slide_type": "slide"
    }
   },
   "source": [
    "## Case study: Jamestown Reservoir\n",
    "\n"
   ]
  },
  {
   "cell_type": "markdown",
   "metadata": {},
   "source": [
    "We will download data from the [Reclamation Water Information System](https://water.usbr.gov/query.php)\n",
    "\n"
   ]
  },
  {
   "cell_type": "code",
   "execution_count": 1,
   "metadata": {},
   "outputs": [],
   "source": [
    "import pandas as pd\n",
    "data = pd.read_csv('examples/jamestown.csv', skiprows=4)"
   ]
  },
  {
   "cell_type": "markdown",
   "metadata": {
    "slideshow": {
     "slide_type": "slide"
    }
   },
   "source": [
    "Let's look at the data\n",
    "\n"
   ]
  },
  {
   "cell_type": "code",
   "execution_count": 2,
   "metadata": {},
   "outputs": [
    {
     "data": {
      "text/html": [
       "<div>\n",
       "<style scoped>\n",
       "    .dataframe tbody tr th:only-of-type {\n",
       "        vertical-align: middle;\n",
       "    }\n",
       "\n",
       "    .dataframe tbody tr th {\n",
       "        vertical-align: top;\n",
       "    }\n",
       "\n",
       "    .dataframe thead th {\n",
       "        text-align: right;\n",
       "    }\n",
       "</style>\n",
       "<table border=\"1\" class=\"dataframe\">\n",
       "  <thead>\n",
       "    <tr style=\"text-align: right;\">\n",
       "      <th></th>\n",
       "      <th>Site</th>\n",
       "      <th>Site ID</th>\n",
       "      <th>Parameter</th>\n",
       "      <th>Date</th>\n",
       "      <th>Value</th>\n",
       "      <th>Units</th>\n",
       "    </tr>\n",
       "  </thead>\n",
       "  <tbody>\n",
       "    <tr>\n",
       "      <th>0</th>\n",
       "      <td>JAMESTOWN RESERVOIR; NORTH DAKOTA</td>\n",
       "      <td>jamr</td>\n",
       "      <td>Reservoir Storage</td>\n",
       "      <td>2019-03-31 00:00:00</td>\n",
       "      <td>32820.0</td>\n",
       "      <td>Acre feet</td>\n",
       "    </tr>\n",
       "    <tr>\n",
       "      <th>1</th>\n",
       "      <td>JAMESTOWN RESERVOIR; NORTH DAKOTA</td>\n",
       "      <td>jamr</td>\n",
       "      <td>Reservoir Storage</td>\n",
       "      <td>2019-03-30 00:00:00</td>\n",
       "      <td>31951.0</td>\n",
       "      <td>Acre feet</td>\n",
       "    </tr>\n",
       "    <tr>\n",
       "      <th>2</th>\n",
       "      <td>JAMESTOWN RESERVOIR; NORTH DAKOTA</td>\n",
       "      <td>jamr</td>\n",
       "      <td>Reservoir Storage</td>\n",
       "      <td>2019-03-29 00:00:00</td>\n",
       "      <td>31008.0</td>\n",
       "      <td>Acre feet</td>\n",
       "    </tr>\n",
       "    <tr>\n",
       "      <th>3</th>\n",
       "      <td>JAMESTOWN RESERVOIR; NORTH DAKOTA</td>\n",
       "      <td>jamr</td>\n",
       "      <td>Reservoir Storage</td>\n",
       "      <td>2019-03-28 00:00:00</td>\n",
       "      <td>29794.0</td>\n",
       "      <td>Acre feet</td>\n",
       "    </tr>\n",
       "    <tr>\n",
       "      <th>4</th>\n",
       "      <td>JAMESTOWN RESERVOIR; NORTH DAKOTA</td>\n",
       "      <td>jamr</td>\n",
       "      <td>Reservoir Storage</td>\n",
       "      <td>2019-03-27 00:00:00</td>\n",
       "      <td>28871.0</td>\n",
       "      <td>Acre feet</td>\n",
       "    </tr>\n",
       "    <tr>\n",
       "      <th>5</th>\n",
       "      <td>JAMESTOWN RESERVOIR; NORTH DAKOTA</td>\n",
       "      <td>jamr</td>\n",
       "      <td>Reservoir Storage</td>\n",
       "      <td>2019-03-26 00:00:00</td>\n",
       "      <td>28432.0</td>\n",
       "      <td>Acre feet</td>\n",
       "    </tr>\n",
       "    <tr>\n",
       "      <th>6</th>\n",
       "      <td>JAMESTOWN RESERVOIR; NORTH DAKOTA</td>\n",
       "      <td>jamr</td>\n",
       "      <td>Reservoir Storage</td>\n",
       "      <td>2019-03-25 00:00:00</td>\n",
       "      <td>28367.0</td>\n",
       "      <td>Acre feet</td>\n",
       "    </tr>\n",
       "    <tr>\n",
       "      <th>7</th>\n",
       "      <td>JAMESTOWN RESERVOIR; NORTH DAKOTA</td>\n",
       "      <td>jamr</td>\n",
       "      <td>Reservoir Storage</td>\n",
       "      <td>2019-03-24 00:00:00</td>\n",
       "      <td>28345.0</td>\n",
       "      <td>Acre feet</td>\n",
       "    </tr>\n",
       "    <tr>\n",
       "      <th>8</th>\n",
       "      <td>JAMESTOWN RESERVOIR; NORTH DAKOTA</td>\n",
       "      <td>jamr</td>\n",
       "      <td>Reservoir Storage</td>\n",
       "      <td>2019-03-23 00:00:00</td>\n",
       "      <td>28302.0</td>\n",
       "      <td>Acre feet</td>\n",
       "    </tr>\n",
       "    <tr>\n",
       "      <th>9</th>\n",
       "      <td>JAMESTOWN RESERVOIR; NORTH DAKOTA</td>\n",
       "      <td>jamr</td>\n",
       "      <td>Reservoir Storage</td>\n",
       "      <td>2019-03-22 00:00:00</td>\n",
       "      <td>28258.0</td>\n",
       "      <td>Acre feet</td>\n",
       "    </tr>\n",
       "    <tr>\n",
       "      <th>10</th>\n",
       "      <td>JAMESTOWN RESERVOIR; NORTH DAKOTA</td>\n",
       "      <td>jamr</td>\n",
       "      <td>Reservoir Storage</td>\n",
       "      <td>2019-03-21 00:00:00</td>\n",
       "      <td>28237.0</td>\n",
       "      <td>Acre feet</td>\n",
       "    </tr>\n",
       "    <tr>\n",
       "      <th>11</th>\n",
       "      <td>JAMESTOWN RESERVOIR; NORTH DAKOTA</td>\n",
       "      <td>jamr</td>\n",
       "      <td>Reservoir Storage</td>\n",
       "      <td>2019-03-20 00:00:00</td>\n",
       "      <td>28237.0</td>\n",
       "      <td>Acre feet</td>\n",
       "    </tr>\n",
       "    <tr>\n",
       "      <th>12</th>\n",
       "      <td>JAMESTOWN RESERVOIR; NORTH DAKOTA</td>\n",
       "      <td>jamr</td>\n",
       "      <td>Reservoir Storage</td>\n",
       "      <td>2019-03-19 00:00:00</td>\n",
       "      <td>28237.0</td>\n",
       "      <td>Acre feet</td>\n",
       "    </tr>\n",
       "    <tr>\n",
       "      <th>13</th>\n",
       "      <td>JAMESTOWN RESERVOIR; NORTH DAKOTA</td>\n",
       "      <td>jamr</td>\n",
       "      <td>Reservoir Storage</td>\n",
       "      <td>2019-03-18 00:00:00</td>\n",
       "      <td>28237.0</td>\n",
       "      <td>Acre feet</td>\n",
       "    </tr>\n",
       "    <tr>\n",
       "      <th>14</th>\n",
       "      <td>JAMESTOWN RESERVOIR; NORTH DAKOTA</td>\n",
       "      <td>jamr</td>\n",
       "      <td>Reservoir Storage</td>\n",
       "      <td>2019-03-17 00:00:00</td>\n",
       "      <td>28280.0</td>\n",
       "      <td>Acre feet</td>\n",
       "    </tr>\n",
       "    <tr>\n",
       "      <th>15</th>\n",
       "      <td>JAMESTOWN RESERVOIR; NORTH DAKOTA</td>\n",
       "      <td>jamr</td>\n",
       "      <td>Reservoir Storage</td>\n",
       "      <td>2019-03-16 00:00:00</td>\n",
       "      <td>28258.0</td>\n",
       "      <td>Acre feet</td>\n",
       "    </tr>\n",
       "    <tr>\n",
       "      <th>16</th>\n",
       "      <td>JAMESTOWN RESERVOIR; NORTH DAKOTA</td>\n",
       "      <td>jamr</td>\n",
       "      <td>Reservoir Storage</td>\n",
       "      <td>2019-03-15 00:00:00</td>\n",
       "      <td>28237.0</td>\n",
       "      <td>Acre feet</td>\n",
       "    </tr>\n",
       "    <tr>\n",
       "      <th>17</th>\n",
       "      <td>JAMESTOWN RESERVOIR; NORTH DAKOTA</td>\n",
       "      <td>jamr</td>\n",
       "      <td>Reservoir Storage</td>\n",
       "      <td>2019-03-14 00:00:00</td>\n",
       "      <td>28258.0</td>\n",
       "      <td>Acre feet</td>\n",
       "    </tr>\n",
       "    <tr>\n",
       "      <th>18</th>\n",
       "      <td>JAMESTOWN RESERVOIR; NORTH DAKOTA</td>\n",
       "      <td>jamr</td>\n",
       "      <td>Reservoir Storage</td>\n",
       "      <td>2019-03-13 00:00:00</td>\n",
       "      <td>28150.0</td>\n",
       "      <td>Acre feet</td>\n",
       "    </tr>\n",
       "    <tr>\n",
       "      <th>19</th>\n",
       "      <td>JAMESTOWN RESERVOIR; NORTH DAKOTA</td>\n",
       "      <td>jamr</td>\n",
       "      <td>Reservoir Storage</td>\n",
       "      <td>2019-03-12 00:00:00</td>\n",
       "      <td>28107.0</td>\n",
       "      <td>Acre feet</td>\n",
       "    </tr>\n",
       "    <tr>\n",
       "      <th>20</th>\n",
       "      <td>JAMESTOWN RESERVOIR; NORTH DAKOTA</td>\n",
       "      <td>jamr</td>\n",
       "      <td>Reservoir Storage</td>\n",
       "      <td>2019-03-11 00:00:00</td>\n",
       "      <td>28107.0</td>\n",
       "      <td>Acre feet</td>\n",
       "    </tr>\n",
       "    <tr>\n",
       "      <th>21</th>\n",
       "      <td>JAMESTOWN RESERVOIR; NORTH DAKOTA</td>\n",
       "      <td>jamr</td>\n",
       "      <td>Reservoir Storage</td>\n",
       "      <td>2019-03-10 00:00:00</td>\n",
       "      <td>28107.0</td>\n",
       "      <td>Acre feet</td>\n",
       "    </tr>\n",
       "    <tr>\n",
       "      <th>22</th>\n",
       "      <td>JAMESTOWN RESERVOIR; NORTH DAKOTA</td>\n",
       "      <td>jamr</td>\n",
       "      <td>Reservoir Storage</td>\n",
       "      <td>2019-03-09 00:00:00</td>\n",
       "      <td>28129.0</td>\n",
       "      <td>Acre feet</td>\n",
       "    </tr>\n",
       "    <tr>\n",
       "      <th>23</th>\n",
       "      <td>JAMESTOWN RESERVOIR; NORTH DAKOTA</td>\n",
       "      <td>jamr</td>\n",
       "      <td>Reservoir Storage</td>\n",
       "      <td>2019-03-08 00:00:00</td>\n",
       "      <td>28043.0</td>\n",
       "      <td>Acre feet</td>\n",
       "    </tr>\n",
       "    <tr>\n",
       "      <th>24</th>\n",
       "      <td>JAMESTOWN RESERVOIR; NORTH DAKOTA</td>\n",
       "      <td>jamr</td>\n",
       "      <td>Reservoir Storage</td>\n",
       "      <td>2019-03-07 00:00:00</td>\n",
       "      <td>28022.0</td>\n",
       "      <td>Acre feet</td>\n",
       "    </tr>\n",
       "    <tr>\n",
       "      <th>25</th>\n",
       "      <td>JAMESTOWN RESERVOIR; NORTH DAKOTA</td>\n",
       "      <td>jamr</td>\n",
       "      <td>Reservoir Storage</td>\n",
       "      <td>2019-03-06 00:00:00</td>\n",
       "      <td>28065.0</td>\n",
       "      <td>Acre feet</td>\n",
       "    </tr>\n",
       "    <tr>\n",
       "      <th>26</th>\n",
       "      <td>JAMESTOWN RESERVOIR; NORTH DAKOTA</td>\n",
       "      <td>jamr</td>\n",
       "      <td>Reservoir Storage</td>\n",
       "      <td>2019-03-05 00:00:00</td>\n",
       "      <td>28043.0</td>\n",
       "      <td>Acre feet</td>\n",
       "    </tr>\n",
       "    <tr>\n",
       "      <th>27</th>\n",
       "      <td>JAMESTOWN RESERVOIR; NORTH DAKOTA</td>\n",
       "      <td>jamr</td>\n",
       "      <td>Reservoir Storage</td>\n",
       "      <td>2019-03-04 00:00:00</td>\n",
       "      <td>28065.0</td>\n",
       "      <td>Acre feet</td>\n",
       "    </tr>\n",
       "    <tr>\n",
       "      <th>28</th>\n",
       "      <td>JAMESTOWN RESERVOIR; NORTH DAKOTA</td>\n",
       "      <td>jamr</td>\n",
       "      <td>Reservoir Storage</td>\n",
       "      <td>2019-03-03 00:00:00</td>\n",
       "      <td>28043.0</td>\n",
       "      <td>Acre feet</td>\n",
       "    </tr>\n",
       "    <tr>\n",
       "      <th>29</th>\n",
       "      <td>JAMESTOWN RESERVOIR; NORTH DAKOTA</td>\n",
       "      <td>jamr</td>\n",
       "      <td>Reservoir Storage</td>\n",
       "      <td>2019-03-02 00:00:00</td>\n",
       "      <td>28065.0</td>\n",
       "      <td>Acre feet</td>\n",
       "    </tr>\n",
       "    <tr>\n",
       "      <th>...</th>\n",
       "      <td>...</td>\n",
       "      <td>...</td>\n",
       "      <td>...</td>\n",
       "      <td>...</td>\n",
       "      <td>...</td>\n",
       "      <td>...</td>\n",
       "    </tr>\n",
       "    <tr>\n",
       "      <th>95639</th>\n",
       "      <td>JAMESTOWN RESERVOIR; NORTH DAKOTA</td>\n",
       "      <td>jamr</td>\n",
       "      <td>Reservoir Release</td>\n",
       "      <td>1953-10-30 00:00:00</td>\n",
       "      <td>0.0</td>\n",
       "      <td>cubic feet per second</td>\n",
       "    </tr>\n",
       "    <tr>\n",
       "      <th>95640</th>\n",
       "      <td>JAMESTOWN RESERVOIR; NORTH DAKOTA</td>\n",
       "      <td>jamr</td>\n",
       "      <td>Reservoir Release</td>\n",
       "      <td>1953-10-29 00:00:00</td>\n",
       "      <td>0.0</td>\n",
       "      <td>cubic feet per second</td>\n",
       "    </tr>\n",
       "    <tr>\n",
       "      <th>95641</th>\n",
       "      <td>JAMESTOWN RESERVOIR; NORTH DAKOTA</td>\n",
       "      <td>jamr</td>\n",
       "      <td>Reservoir Release</td>\n",
       "      <td>1953-10-28 00:00:00</td>\n",
       "      <td>0.0</td>\n",
       "      <td>cubic feet per second</td>\n",
       "    </tr>\n",
       "    <tr>\n",
       "      <th>95642</th>\n",
       "      <td>JAMESTOWN RESERVOIR; NORTH DAKOTA</td>\n",
       "      <td>jamr</td>\n",
       "      <td>Reservoir Release</td>\n",
       "      <td>1953-10-27 00:00:00</td>\n",
       "      <td>0.0</td>\n",
       "      <td>cubic feet per second</td>\n",
       "    </tr>\n",
       "    <tr>\n",
       "      <th>95643</th>\n",
       "      <td>JAMESTOWN RESERVOIR; NORTH DAKOTA</td>\n",
       "      <td>jamr</td>\n",
       "      <td>Reservoir Release</td>\n",
       "      <td>1953-10-26 00:00:00</td>\n",
       "      <td>0.0</td>\n",
       "      <td>cubic feet per second</td>\n",
       "    </tr>\n",
       "    <tr>\n",
       "      <th>95644</th>\n",
       "      <td>JAMESTOWN RESERVOIR; NORTH DAKOTA</td>\n",
       "      <td>jamr</td>\n",
       "      <td>Reservoir Release</td>\n",
       "      <td>1953-10-25 00:00:00</td>\n",
       "      <td>0.0</td>\n",
       "      <td>cubic feet per second</td>\n",
       "    </tr>\n",
       "    <tr>\n",
       "      <th>95645</th>\n",
       "      <td>JAMESTOWN RESERVOIR; NORTH DAKOTA</td>\n",
       "      <td>jamr</td>\n",
       "      <td>Reservoir Release</td>\n",
       "      <td>1953-10-24 00:00:00</td>\n",
       "      <td>0.0</td>\n",
       "      <td>cubic feet per second</td>\n",
       "    </tr>\n",
       "    <tr>\n",
       "      <th>95646</th>\n",
       "      <td>JAMESTOWN RESERVOIR; NORTH DAKOTA</td>\n",
       "      <td>jamr</td>\n",
       "      <td>Reservoir Release</td>\n",
       "      <td>1953-10-23 00:00:00</td>\n",
       "      <td>0.0</td>\n",
       "      <td>cubic feet per second</td>\n",
       "    </tr>\n",
       "    <tr>\n",
       "      <th>95647</th>\n",
       "      <td>JAMESTOWN RESERVOIR; NORTH DAKOTA</td>\n",
       "      <td>jamr</td>\n",
       "      <td>Reservoir Release</td>\n",
       "      <td>1953-10-22 00:00:00</td>\n",
       "      <td>0.0</td>\n",
       "      <td>cubic feet per second</td>\n",
       "    </tr>\n",
       "    <tr>\n",
       "      <th>95648</th>\n",
       "      <td>JAMESTOWN RESERVOIR; NORTH DAKOTA</td>\n",
       "      <td>jamr</td>\n",
       "      <td>Reservoir Release</td>\n",
       "      <td>1953-10-21 00:00:00</td>\n",
       "      <td>0.0</td>\n",
       "      <td>cubic feet per second</td>\n",
       "    </tr>\n",
       "    <tr>\n",
       "      <th>95649</th>\n",
       "      <td>JAMESTOWN RESERVOIR; NORTH DAKOTA</td>\n",
       "      <td>jamr</td>\n",
       "      <td>Reservoir Release</td>\n",
       "      <td>1953-10-20 00:00:00</td>\n",
       "      <td>0.0</td>\n",
       "      <td>cubic feet per second</td>\n",
       "    </tr>\n",
       "    <tr>\n",
       "      <th>95650</th>\n",
       "      <td>JAMESTOWN RESERVOIR; NORTH DAKOTA</td>\n",
       "      <td>jamr</td>\n",
       "      <td>Reservoir Release</td>\n",
       "      <td>1953-10-19 00:00:00</td>\n",
       "      <td>0.0</td>\n",
       "      <td>cubic feet per second</td>\n",
       "    </tr>\n",
       "    <tr>\n",
       "      <th>95651</th>\n",
       "      <td>JAMESTOWN RESERVOIR; NORTH DAKOTA</td>\n",
       "      <td>jamr</td>\n",
       "      <td>Reservoir Release</td>\n",
       "      <td>1953-10-18 00:00:00</td>\n",
       "      <td>0.0</td>\n",
       "      <td>cubic feet per second</td>\n",
       "    </tr>\n",
       "    <tr>\n",
       "      <th>95652</th>\n",
       "      <td>JAMESTOWN RESERVOIR; NORTH DAKOTA</td>\n",
       "      <td>jamr</td>\n",
       "      <td>Reservoir Release</td>\n",
       "      <td>1953-10-17 00:00:00</td>\n",
       "      <td>0.0</td>\n",
       "      <td>cubic feet per second</td>\n",
       "    </tr>\n",
       "    <tr>\n",
       "      <th>95653</th>\n",
       "      <td>JAMESTOWN RESERVOIR; NORTH DAKOTA</td>\n",
       "      <td>jamr</td>\n",
       "      <td>Reservoir Release</td>\n",
       "      <td>1953-10-16 00:00:00</td>\n",
       "      <td>0.0</td>\n",
       "      <td>cubic feet per second</td>\n",
       "    </tr>\n",
       "    <tr>\n",
       "      <th>95654</th>\n",
       "      <td>JAMESTOWN RESERVOIR; NORTH DAKOTA</td>\n",
       "      <td>jamr</td>\n",
       "      <td>Reservoir Release</td>\n",
       "      <td>1953-10-15 00:00:00</td>\n",
       "      <td>0.0</td>\n",
       "      <td>cubic feet per second</td>\n",
       "    </tr>\n",
       "    <tr>\n",
       "      <th>95655</th>\n",
       "      <td>JAMESTOWN RESERVOIR; NORTH DAKOTA</td>\n",
       "      <td>jamr</td>\n",
       "      <td>Reservoir Release</td>\n",
       "      <td>1953-10-14 00:00:00</td>\n",
       "      <td>0.0</td>\n",
       "      <td>cubic feet per second</td>\n",
       "    </tr>\n",
       "    <tr>\n",
       "      <th>95656</th>\n",
       "      <td>JAMESTOWN RESERVOIR; NORTH DAKOTA</td>\n",
       "      <td>jamr</td>\n",
       "      <td>Reservoir Release</td>\n",
       "      <td>1953-10-13 00:00:00</td>\n",
       "      <td>0.0</td>\n",
       "      <td>cubic feet per second</td>\n",
       "    </tr>\n",
       "    <tr>\n",
       "      <th>95657</th>\n",
       "      <td>JAMESTOWN RESERVOIR; NORTH DAKOTA</td>\n",
       "      <td>jamr</td>\n",
       "      <td>Reservoir Release</td>\n",
       "      <td>1953-10-12 00:00:00</td>\n",
       "      <td>0.0</td>\n",
       "      <td>cubic feet per second</td>\n",
       "    </tr>\n",
       "    <tr>\n",
       "      <th>95658</th>\n",
       "      <td>JAMESTOWN RESERVOIR; NORTH DAKOTA</td>\n",
       "      <td>jamr</td>\n",
       "      <td>Reservoir Release</td>\n",
       "      <td>1953-10-11 00:00:00</td>\n",
       "      <td>0.0</td>\n",
       "      <td>cubic feet per second</td>\n",
       "    </tr>\n",
       "    <tr>\n",
       "      <th>95659</th>\n",
       "      <td>JAMESTOWN RESERVOIR; NORTH DAKOTA</td>\n",
       "      <td>jamr</td>\n",
       "      <td>Reservoir Release</td>\n",
       "      <td>1953-10-10 00:00:00</td>\n",
       "      <td>0.0</td>\n",
       "      <td>cubic feet per second</td>\n",
       "    </tr>\n",
       "    <tr>\n",
       "      <th>95660</th>\n",
       "      <td>JAMESTOWN RESERVOIR; NORTH DAKOTA</td>\n",
       "      <td>jamr</td>\n",
       "      <td>Reservoir Release</td>\n",
       "      <td>1953-10-09 00:00:00</td>\n",
       "      <td>0.0</td>\n",
       "      <td>cubic feet per second</td>\n",
       "    </tr>\n",
       "    <tr>\n",
       "      <th>95661</th>\n",
       "      <td>JAMESTOWN RESERVOIR; NORTH DAKOTA</td>\n",
       "      <td>jamr</td>\n",
       "      <td>Reservoir Release</td>\n",
       "      <td>1953-10-08 00:00:00</td>\n",
       "      <td>0.0</td>\n",
       "      <td>cubic feet per second</td>\n",
       "    </tr>\n",
       "    <tr>\n",
       "      <th>95662</th>\n",
       "      <td>JAMESTOWN RESERVOIR; NORTH DAKOTA</td>\n",
       "      <td>jamr</td>\n",
       "      <td>Reservoir Release</td>\n",
       "      <td>1953-10-07 00:00:00</td>\n",
       "      <td>0.0</td>\n",
       "      <td>cubic feet per second</td>\n",
       "    </tr>\n",
       "    <tr>\n",
       "      <th>95663</th>\n",
       "      <td>JAMESTOWN RESERVOIR; NORTH DAKOTA</td>\n",
       "      <td>jamr</td>\n",
       "      <td>Reservoir Release</td>\n",
       "      <td>1953-10-06 00:00:00</td>\n",
       "      <td>0.0</td>\n",
       "      <td>cubic feet per second</td>\n",
       "    </tr>\n",
       "    <tr>\n",
       "      <th>95664</th>\n",
       "      <td>JAMESTOWN RESERVOIR; NORTH DAKOTA</td>\n",
       "      <td>jamr</td>\n",
       "      <td>Reservoir Release</td>\n",
       "      <td>1953-10-05 00:00:00</td>\n",
       "      <td>0.0</td>\n",
       "      <td>cubic feet per second</td>\n",
       "    </tr>\n",
       "    <tr>\n",
       "      <th>95665</th>\n",
       "      <td>JAMESTOWN RESERVOIR; NORTH DAKOTA</td>\n",
       "      <td>jamr</td>\n",
       "      <td>Reservoir Release</td>\n",
       "      <td>1953-10-04 00:00:00</td>\n",
       "      <td>0.0</td>\n",
       "      <td>cubic feet per second</td>\n",
       "    </tr>\n",
       "    <tr>\n",
       "      <th>95666</th>\n",
       "      <td>JAMESTOWN RESERVOIR; NORTH DAKOTA</td>\n",
       "      <td>jamr</td>\n",
       "      <td>Reservoir Release</td>\n",
       "      <td>1953-10-03 00:00:00</td>\n",
       "      <td>0.0</td>\n",
       "      <td>cubic feet per second</td>\n",
       "    </tr>\n",
       "    <tr>\n",
       "      <th>95667</th>\n",
       "      <td>JAMESTOWN RESERVOIR; NORTH DAKOTA</td>\n",
       "      <td>jamr</td>\n",
       "      <td>Reservoir Release</td>\n",
       "      <td>1953-10-02 00:00:00</td>\n",
       "      <td>0.0</td>\n",
       "      <td>cubic feet per second</td>\n",
       "    </tr>\n",
       "    <tr>\n",
       "      <th>95668</th>\n",
       "      <td>JAMESTOWN RESERVOIR; NORTH DAKOTA</td>\n",
       "      <td>jamr</td>\n",
       "      <td>Reservoir Release</td>\n",
       "      <td>1953-10-01 00:00:00</td>\n",
       "      <td>0.0</td>\n",
       "      <td>cubic feet per second</td>\n",
       "    </tr>\n",
       "  </tbody>\n",
       "</table>\n",
       "<p>95669 rows × 6 columns</p>\n",
       "</div>"
      ],
      "text/plain": [
       "                                    Site Site ID          Parameter  \\\n",
       "0      JAMESTOWN RESERVOIR; NORTH DAKOTA    jamr  Reservoir Storage   \n",
       "1      JAMESTOWN RESERVOIR; NORTH DAKOTA    jamr  Reservoir Storage   \n",
       "2      JAMESTOWN RESERVOIR; NORTH DAKOTA    jamr  Reservoir Storage   \n",
       "3      JAMESTOWN RESERVOIR; NORTH DAKOTA    jamr  Reservoir Storage   \n",
       "4      JAMESTOWN RESERVOIR; NORTH DAKOTA    jamr  Reservoir Storage   \n",
       "5      JAMESTOWN RESERVOIR; NORTH DAKOTA    jamr  Reservoir Storage   \n",
       "6      JAMESTOWN RESERVOIR; NORTH DAKOTA    jamr  Reservoir Storage   \n",
       "7      JAMESTOWN RESERVOIR; NORTH DAKOTA    jamr  Reservoir Storage   \n",
       "8      JAMESTOWN RESERVOIR; NORTH DAKOTA    jamr  Reservoir Storage   \n",
       "9      JAMESTOWN RESERVOIR; NORTH DAKOTA    jamr  Reservoir Storage   \n",
       "10     JAMESTOWN RESERVOIR; NORTH DAKOTA    jamr  Reservoir Storage   \n",
       "11     JAMESTOWN RESERVOIR; NORTH DAKOTA    jamr  Reservoir Storage   \n",
       "12     JAMESTOWN RESERVOIR; NORTH DAKOTA    jamr  Reservoir Storage   \n",
       "13     JAMESTOWN RESERVOIR; NORTH DAKOTA    jamr  Reservoir Storage   \n",
       "14     JAMESTOWN RESERVOIR; NORTH DAKOTA    jamr  Reservoir Storage   \n",
       "15     JAMESTOWN RESERVOIR; NORTH DAKOTA    jamr  Reservoir Storage   \n",
       "16     JAMESTOWN RESERVOIR; NORTH DAKOTA    jamr  Reservoir Storage   \n",
       "17     JAMESTOWN RESERVOIR; NORTH DAKOTA    jamr  Reservoir Storage   \n",
       "18     JAMESTOWN RESERVOIR; NORTH DAKOTA    jamr  Reservoir Storage   \n",
       "19     JAMESTOWN RESERVOIR; NORTH DAKOTA    jamr  Reservoir Storage   \n",
       "20     JAMESTOWN RESERVOIR; NORTH DAKOTA    jamr  Reservoir Storage   \n",
       "21     JAMESTOWN RESERVOIR; NORTH DAKOTA    jamr  Reservoir Storage   \n",
       "22     JAMESTOWN RESERVOIR; NORTH DAKOTA    jamr  Reservoir Storage   \n",
       "23     JAMESTOWN RESERVOIR; NORTH DAKOTA    jamr  Reservoir Storage   \n",
       "24     JAMESTOWN RESERVOIR; NORTH DAKOTA    jamr  Reservoir Storage   \n",
       "25     JAMESTOWN RESERVOIR; NORTH DAKOTA    jamr  Reservoir Storage   \n",
       "26     JAMESTOWN RESERVOIR; NORTH DAKOTA    jamr  Reservoir Storage   \n",
       "27     JAMESTOWN RESERVOIR; NORTH DAKOTA    jamr  Reservoir Storage   \n",
       "28     JAMESTOWN RESERVOIR; NORTH DAKOTA    jamr  Reservoir Storage   \n",
       "29     JAMESTOWN RESERVOIR; NORTH DAKOTA    jamr  Reservoir Storage   \n",
       "...                                  ...     ...                ...   \n",
       "95639  JAMESTOWN RESERVOIR; NORTH DAKOTA    jamr  Reservoir Release   \n",
       "95640  JAMESTOWN RESERVOIR; NORTH DAKOTA    jamr  Reservoir Release   \n",
       "95641  JAMESTOWN RESERVOIR; NORTH DAKOTA    jamr  Reservoir Release   \n",
       "95642  JAMESTOWN RESERVOIR; NORTH DAKOTA    jamr  Reservoir Release   \n",
       "95643  JAMESTOWN RESERVOIR; NORTH DAKOTA    jamr  Reservoir Release   \n",
       "95644  JAMESTOWN RESERVOIR; NORTH DAKOTA    jamr  Reservoir Release   \n",
       "95645  JAMESTOWN RESERVOIR; NORTH DAKOTA    jamr  Reservoir Release   \n",
       "95646  JAMESTOWN RESERVOIR; NORTH DAKOTA    jamr  Reservoir Release   \n",
       "95647  JAMESTOWN RESERVOIR; NORTH DAKOTA    jamr  Reservoir Release   \n",
       "95648  JAMESTOWN RESERVOIR; NORTH DAKOTA    jamr  Reservoir Release   \n",
       "95649  JAMESTOWN RESERVOIR; NORTH DAKOTA    jamr  Reservoir Release   \n",
       "95650  JAMESTOWN RESERVOIR; NORTH DAKOTA    jamr  Reservoir Release   \n",
       "95651  JAMESTOWN RESERVOIR; NORTH DAKOTA    jamr  Reservoir Release   \n",
       "95652  JAMESTOWN RESERVOIR; NORTH DAKOTA    jamr  Reservoir Release   \n",
       "95653  JAMESTOWN RESERVOIR; NORTH DAKOTA    jamr  Reservoir Release   \n",
       "95654  JAMESTOWN RESERVOIR; NORTH DAKOTA    jamr  Reservoir Release   \n",
       "95655  JAMESTOWN RESERVOIR; NORTH DAKOTA    jamr  Reservoir Release   \n",
       "95656  JAMESTOWN RESERVOIR; NORTH DAKOTA    jamr  Reservoir Release   \n",
       "95657  JAMESTOWN RESERVOIR; NORTH DAKOTA    jamr  Reservoir Release   \n",
       "95658  JAMESTOWN RESERVOIR; NORTH DAKOTA    jamr  Reservoir Release   \n",
       "95659  JAMESTOWN RESERVOIR; NORTH DAKOTA    jamr  Reservoir Release   \n",
       "95660  JAMESTOWN RESERVOIR; NORTH DAKOTA    jamr  Reservoir Release   \n",
       "95661  JAMESTOWN RESERVOIR; NORTH DAKOTA    jamr  Reservoir Release   \n",
       "95662  JAMESTOWN RESERVOIR; NORTH DAKOTA    jamr  Reservoir Release   \n",
       "95663  JAMESTOWN RESERVOIR; NORTH DAKOTA    jamr  Reservoir Release   \n",
       "95664  JAMESTOWN RESERVOIR; NORTH DAKOTA    jamr  Reservoir Release   \n",
       "95665  JAMESTOWN RESERVOIR; NORTH DAKOTA    jamr  Reservoir Release   \n",
       "95666  JAMESTOWN RESERVOIR; NORTH DAKOTA    jamr  Reservoir Release   \n",
       "95667  JAMESTOWN RESERVOIR; NORTH DAKOTA    jamr  Reservoir Release   \n",
       "95668  JAMESTOWN RESERVOIR; NORTH DAKOTA    jamr  Reservoir Release   \n",
       "\n",
       "                      Date    Value                  Units  \n",
       "0      2019-03-31 00:00:00  32820.0              Acre feet  \n",
       "1      2019-03-30 00:00:00  31951.0              Acre feet  \n",
       "2      2019-03-29 00:00:00  31008.0              Acre feet  \n",
       "3      2019-03-28 00:00:00  29794.0              Acre feet  \n",
       "4      2019-03-27 00:00:00  28871.0              Acre feet  \n",
       "5      2019-03-26 00:00:00  28432.0              Acre feet  \n",
       "6      2019-03-25 00:00:00  28367.0              Acre feet  \n",
       "7      2019-03-24 00:00:00  28345.0              Acre feet  \n",
       "8      2019-03-23 00:00:00  28302.0              Acre feet  \n",
       "9      2019-03-22 00:00:00  28258.0              Acre feet  \n",
       "10     2019-03-21 00:00:00  28237.0              Acre feet  \n",
       "11     2019-03-20 00:00:00  28237.0              Acre feet  \n",
       "12     2019-03-19 00:00:00  28237.0              Acre feet  \n",
       "13     2019-03-18 00:00:00  28237.0              Acre feet  \n",
       "14     2019-03-17 00:00:00  28280.0              Acre feet  \n",
       "15     2019-03-16 00:00:00  28258.0              Acre feet  \n",
       "16     2019-03-15 00:00:00  28237.0              Acre feet  \n",
       "17     2019-03-14 00:00:00  28258.0              Acre feet  \n",
       "18     2019-03-13 00:00:00  28150.0              Acre feet  \n",
       "19     2019-03-12 00:00:00  28107.0              Acre feet  \n",
       "20     2019-03-11 00:00:00  28107.0              Acre feet  \n",
       "21     2019-03-10 00:00:00  28107.0              Acre feet  \n",
       "22     2019-03-09 00:00:00  28129.0              Acre feet  \n",
       "23     2019-03-08 00:00:00  28043.0              Acre feet  \n",
       "24     2019-03-07 00:00:00  28022.0              Acre feet  \n",
       "25     2019-03-06 00:00:00  28065.0              Acre feet  \n",
       "26     2019-03-05 00:00:00  28043.0              Acre feet  \n",
       "27     2019-03-04 00:00:00  28065.0              Acre feet  \n",
       "28     2019-03-03 00:00:00  28043.0              Acre feet  \n",
       "29     2019-03-02 00:00:00  28065.0              Acre feet  \n",
       "...                    ...      ...                    ...  \n",
       "95639  1953-10-30 00:00:00      0.0  cubic feet per second  \n",
       "95640  1953-10-29 00:00:00      0.0  cubic feet per second  \n",
       "95641  1953-10-28 00:00:00      0.0  cubic feet per second  \n",
       "95642  1953-10-27 00:00:00      0.0  cubic feet per second  \n",
       "95643  1953-10-26 00:00:00      0.0  cubic feet per second  \n",
       "95644  1953-10-25 00:00:00      0.0  cubic feet per second  \n",
       "95645  1953-10-24 00:00:00      0.0  cubic feet per second  \n",
       "95646  1953-10-23 00:00:00      0.0  cubic feet per second  \n",
       "95647  1953-10-22 00:00:00      0.0  cubic feet per second  \n",
       "95648  1953-10-21 00:00:00      0.0  cubic feet per second  \n",
       "95649  1953-10-20 00:00:00      0.0  cubic feet per second  \n",
       "95650  1953-10-19 00:00:00      0.0  cubic feet per second  \n",
       "95651  1953-10-18 00:00:00      0.0  cubic feet per second  \n",
       "95652  1953-10-17 00:00:00      0.0  cubic feet per second  \n",
       "95653  1953-10-16 00:00:00      0.0  cubic feet per second  \n",
       "95654  1953-10-15 00:00:00      0.0  cubic feet per second  \n",
       "95655  1953-10-14 00:00:00      0.0  cubic feet per second  \n",
       "95656  1953-10-13 00:00:00      0.0  cubic feet per second  \n",
       "95657  1953-10-12 00:00:00      0.0  cubic feet per second  \n",
       "95658  1953-10-11 00:00:00      0.0  cubic feet per second  \n",
       "95659  1953-10-10 00:00:00      0.0  cubic feet per second  \n",
       "95660  1953-10-09 00:00:00      0.0  cubic feet per second  \n",
       "95661  1953-10-08 00:00:00      0.0  cubic feet per second  \n",
       "95662  1953-10-07 00:00:00      0.0  cubic feet per second  \n",
       "95663  1953-10-06 00:00:00      0.0  cubic feet per second  \n",
       "95664  1953-10-05 00:00:00      0.0  cubic feet per second  \n",
       "95665  1953-10-04 00:00:00      0.0  cubic feet per second  \n",
       "95666  1953-10-03 00:00:00      0.0  cubic feet per second  \n",
       "95667  1953-10-02 00:00:00      0.0  cubic feet per second  \n",
       "95668  1953-10-01 00:00:00      0.0  cubic feet per second  \n",
       "\n",
       "[95669 rows x 6 columns]"
      ]
     },
     "execution_count": 2,
     "metadata": {},
     "output_type": "execute_result"
    }
   ],
   "source": [
    "data"
   ]
  },
  {
   "cell_type": "markdown",
   "metadata": {
    "slideshow": {
     "slide_type": "slide"
    }
   },
   "source": [
    "Let's convert it to something more useful\n",
    "\n"
   ]
  },
  {
   "cell_type": "code",
   "execution_count": null,
   "metadata": {},
   "outputs": [],
   "source": []
  },
  {
   "cell_type": "markdown",
   "metadata": {
    "slideshow": {
     "slide_type": "slide"
    }
   },
   "source": [
    "## Can we build a predictive model?\n",
    "\n"
   ]
  },
  {
   "cell_type": "markdown",
   "metadata": {},
   "source": [
    "Let's start with Ordinary Least Squares (OLS) Regression. Suppose set of observations $\\lbrace y_{i}, x_{i} \\rbrace_{i=1}^{n}$, then linear regression model is defined as\n",
    "$$y = X \\beta + \\epsilon$$\n",
    "\n",
    "and the OLS estimation of $\\beta$ is given by $$\\hat{\\beta} = (X^{T} X)^{-1} X^{T} y$$ which minimizes \n",
    "$$S = \\sum_{i=1}^{n} (y_{i} - x_{i}^{T} b)^{2}$$\n",
    "\n"
   ]
  },
  {
   "cell_type": "code",
   "execution_count": null,
   "metadata": {
    "slideshow": {
     "slide_type": "slide"
    }
   },
   "outputs": [],
   "source": [
    "import numpy as np\n",
    "import statsmodels.api as sm\n",
    "%matplotlib inline"
   ]
  },
  {
   "cell_type": "markdown",
   "metadata": {},
   "source": [
    "Let's examine if an OLS regression could work to relate the reservoir inflow and release.\n",
    "\n",
    "Plot a scatter of the two variables. Do you expect the regression to be good?\n",
    "\n"
   ]
  },
  {
   "cell_type": "code",
   "execution_count": null,
   "metadata": {
    "slideshow": {
     "slide_type": "slide"
    }
   },
   "outputs": [],
   "source": [
    "import matplotlib.pyplot as plt\n",
    "fig = plt.figure(figsize=(12, 8))\n"
   ]
  },
  {
   "cell_type": "markdown",
   "metadata": {
    "slideshow": {
     "slide_type": "slide"
    }
   },
   "source": [
    "Play around with the other variables and select the ones you find most interesting.\n",
    "\n",
    "Use the `sm.OLS` function and fit a model to the data\n",
    "\n"
   ]
  },
  {
   "cell_type": "code",
   "execution_count": null,
   "metadata": {
    "slideshow": {
     "slide_type": "slide"
    }
   },
   "outputs": [],
   "source": []
  },
  {
   "cell_type": "markdown",
   "metadata": {
    "slideshow": {
     "slide_type": "slide"
    }
   },
   "source": [
    "Quantities of interest can be extracted directly from the fitted model\n",
    "\n"
   ]
  },
  {
   "cell_type": "code",
   "execution_count": null,
   "metadata": {},
   "outputs": [],
   "source": [
    "print('Parameters: ', results.params)\n",
    "print('R2: ', results.rsquared)"
   ]
  },
  {
   "cell_type": "markdown",
   "metadata": {
    "slideshow": {
     "slide_type": "slide"
    }
   },
   "source": [
    "Next we will look at how well the prediction works\n",
    "\n"
   ]
  },
  {
   "cell_type": "code",
   "execution_count": null,
   "metadata": {},
   "outputs": [],
   "source": [
    "i = np.argsort(data['Reservoir Inflow'])\n",
    "fig, ax = plt.subplots(figsize=(12, 8))\n",
    "ax.plot(data['Reservoir Inflow'], data['Reservoir Release'], '.', label='Data')\n",
    "ax.plot(data['Reservoir Inflow'][i], results.fittedvalues[i], 'r--.', label='OLS')\n",
    "ax.legend(loc='best')"
   ]
  },
  {
   "cell_type": "markdown",
   "metadata": {
    "slideshow": {
     "slide_type": "slide"
    }
   },
   "source": [
    "## Regression diagnostics\n",
    "\n"
   ]
  },
  {
   "cell_type": "markdown",
   "metadata": {},
   "source": [
    "There are some ways to diagnose whether the regression model is appropriate.\n",
    "\n"
   ]
  },
  {
   "cell_type": "markdown",
   "metadata": {
    "slideshow": {
     "slide_type": "slide"
    }
   },
   "source": [
    "### Normality of the residuals\n",
    "\n"
   ]
  },
  {
   "cell_type": "markdown",
   "metadata": {},
   "source": [
    "Jarque-Bera test is a goodness-of-fit test of whether sample data have the skewness and kurtosis matching a normal distribution.\n",
    "\n"
   ]
  },
  {
   "cell_type": "code",
   "execution_count": null,
   "metadata": {},
   "outputs": [],
   "source": [
    "import statsmodels.stats.api as sms\n",
    "from statsmodels.compat import lzip\n",
    "name = ['Jarque-Bera', 'Chi^2 two-tail prob.', 'Skew', 'Kurtosis']\n",
    "test = sms.jarque_bera(results.resid)\n",
    "lzip(name, test)"
   ]
  },
  {
   "cell_type": "markdown",
   "metadata": {
    "slideshow": {
     "slide_type": "slide"
    }
   },
   "source": [
    "What does the p-value we got from the test mean?\n",
    "\n"
   ]
  },
  {
   "cell_type": "markdown",
   "metadata": {
    "slideshow": {
     "slide_type": "slide"
    }
   },
   "source": [
    "## Autoregressive Moving Average model\n",
    "\n"
   ]
  },
  {
   "cell_type": "markdown",
   "metadata": {},
   "source": [
    "ARMA models can be used to describe a stationary stochastic process in terms of two polynomials: one for the *autoregression* and one for the *moving average*.\n",
    "\n",
    "$$X_{t} = c + \\epsilon_{t} + \\sum_{i=1}^{p} \\phi_{i} X_{t-i} + \\sum_{i=1}^{q} \\theta_{i} \\epsilon_{t-i}$$\n",
    "\n",
    "Let's examine if an ARMA model can describe the reservoir release time series. First, let's take a subset of the data and plot them.\n",
    "\n"
   ]
  },
  {
   "cell_type": "code",
   "execution_count": null,
   "metadata": {
    "slideshow": {
     "slide_type": "slide"
    }
   },
   "outputs": [],
   "source": []
  },
  {
   "cell_type": "markdown",
   "metadata": {
    "slideshow": {
     "slide_type": "slide"
    }
   },
   "source": [
    "As with any ARMA modeling, we start by examining the auto-correlation structure\n",
    "\n"
   ]
  },
  {
   "cell_type": "code",
   "execution_count": null,
   "metadata": {},
   "outputs": [],
   "source": [
    "fig = plt.figure(figsize=(12, 8))\n",
    "ax1 = fig.add_subplot(211)\n",
    "fig = sm.graphics.tsa.plot_acf(dta.values.squeeze(), lags=40, ax=ax1)\n",
    "ax2 = fig.add_subplot(212)\n",
    "fig = sm.graphics.tsa.plot_pacf(dta, lags=40, ax=ax2)"
   ]
  },
  {
   "cell_type": "markdown",
   "metadata": {
    "slideshow": {
     "slide_type": "slide"
    }
   },
   "source": [
    "> The autocorrelation for an observation and an observation at a prior time step is comprised of both the direct correlation and indirect correlations. These indirect correlations are a linear function of the correlation of the observation, with observations at intervening time steps.- What order should our ARMA model have?\n",
    "\n",
    "\n"
   ]
  },
  {
   "cell_type": "markdown",
   "metadata": {
    "slideshow": {
     "slide_type": "slide"
    }
   },
   "source": [
    "Similar to the OLS regression, use the `sm.tsa.ARMA` object to fit an ARMA model"
   ]
  },
  {
   "cell_type": "code",
   "execution_count": null,
   "metadata": {},
   "outputs": [],
   "source": [
    "\n",
    "print(arma.params)"
   ]
  },
  {
   "cell_type": "markdown",
   "metadata": {
    "slideshow": {
     "slide_type": "slide"
    }
   },
   "source": [
    "Let's print some performance metrics (AIC, BIC)\n",
    "\n"
   ]
  },
  {
   "cell_type": "code",
   "execution_count": null,
   "metadata": {},
   "outputs": [],
   "source": [
    "print(arma.aic, arma.bic)"
   ]
  },
  {
   "cell_type": "markdown",
   "metadata": {
    "slideshow": {
     "slide_type": "slide"
    }
   },
   "source": [
    "Testing the normality of the residuals (use qqplot)\n",
    "\n"
   ]
  },
  {
   "cell_type": "code",
   "execution_count": null,
   "metadata": {},
   "outputs": [],
   "source": [
    "from statsmodels.graphics.api import qqplot\n"
   ]
  },
  {
   "cell_type": "markdown",
   "metadata": {
    "slideshow": {
     "slide_type": "slide"
    }
   },
   "source": [
    "Now let's forecast the series (use the method of the fitted object, `plot_predict`)\n",
    "\n"
   ]
  },
  {
   "cell_type": "code",
   "execution_count": null,
   "metadata": {},
   "outputs": [],
   "source": []
  },
  {
   "cell_type": "markdown",
   "metadata": {
    "slideshow": {
     "slide_type": "slide"
    }
   },
   "source": [
    "### Exercise: Can you obtain a better fit for the reservoir release model?\n",
    "\n"
   ]
  },
  {
   "cell_type": "markdown",
   "metadata": {},
   "source": [
    "Hint: sm.tsa.AR has a method select_order\n",
    "\n"
   ]
  },
  {
   "cell_type": "code",
   "execution_count": null,
   "metadata": {
    "slideshow": {
     "slide_type": "slide"
    }
   },
   "outputs": [],
   "source": []
  },
  {
   "cell_type": "markdown",
   "metadata": {
    "slideshow": {
     "slide_type": "slide"
    }
   },
   "source": [
    "## Kernel density estimation\n",
    "\n"
   ]
  },
  {
   "cell_type": "markdown",
   "metadata": {},
   "source": [
    "Kernel density estimation is the process of estimating an unknown probability density function using a kernel function $K(u)$\n",
    "\n",
    "In the following example, we will estimate the PDF of a bimodal distribution: a mixture of two normal distributions with locations at -1 and 1\n",
    "\n"
   ]
  },
  {
   "cell_type": "code",
   "execution_count": null,
   "metadata": {
    "slideshow": {
     "slide_type": "slide"
    }
   },
   "outputs": [],
   "source": [
    "# Location, scale and weight for the two distributions\n",
    "dist1_loc, dist1_scale, weight1 = -1 , .5, .25\n",
    "dist2_loc, dist2_scale, weight2 = 1 , .5, .75"
   ]
  },
  {
   "cell_type": "code",
   "execution_count": null,
   "metadata": {
    "slideshow": {
     "slide_type": "slide"
    }
   },
   "outputs": [],
   "source": [
    "from statsmodels.distributions.mixture_rvs import mixture_rvs\n",
    "from scipy import stats\n",
    "# Sample from a mixture of distributions\n",
    "obs_dist = mixture_rvs(prob=[weight1, weight2], size=250, \n",
    "                        dist=[stats.norm, stats.norm],\n",
    "                        kwargs = (dict(loc=dist1_loc, scale=dist1_scale),\n",
    "                                  dict(loc=dist2_loc, scale=dist2_scale)))"
   ]
  },
  {
   "cell_type": "markdown",
   "metadata": {
    "slideshow": {
     "slide_type": "slide"
    }
   },
   "source": [
    "The simplest non-parametric technique for density estimation is the histogram\n",
    "\n"
   ]
  },
  {
   "cell_type": "code",
   "execution_count": null,
   "metadata": {
    "slideshow": {
     "slide_type": "slide"
    }
   },
   "outputs": [],
   "source": [
    "fig = plt.figure(figsize=(12, 8))\n",
    "ax = fig.add_subplot(111)\n",
    "ax.scatter(obs_dist, np.abs(np.random.randn(obs_dist.size)), \n",
    "            zorder=15, color='red', marker='x', alpha=0.5, label='Samples')\n",
    "lines = ax.hist(obs_dist, bins=20, edgecolor='k', label='Histogram')\n",
    "ax.legend(loc='best')\n",
    "ax.grid(True, zorder=-5)"
   ]
  },
  {
   "cell_type": "markdown",
   "metadata": {
    "slideshow": {
     "slide_type": "slide"
    }
   },
   "source": [
    "Let's fit a continuous probability density function\n",
    "\n"
   ]
  },
  {
   "cell_type": "code",
   "execution_count": null,
   "metadata": {},
   "outputs": [],
   "source": [
    "kde = sm.nonparametric.KDEUnivariate(obs_dist)\n",
    "kde.fit()"
   ]
  },
  {
   "cell_type": "markdown",
   "metadata": {
    "slideshow": {
     "slide_type": "slide"
    }
   },
   "source": [
    "Plotting the results\n",
    "\n"
   ]
  },
  {
   "cell_type": "code",
   "execution_count": null,
   "metadata": {},
   "outputs": [],
   "source": [
    "fig = plt.figure(figsize=(12, 8))\n",
    "ax = fig.add_subplot(111)\n",
    "\n",
    "# Plot the histrogram\n",
    "ax.hist(obs_dist, bins=20, density=True, label='Histogram from samples', \n",
    "        zorder=5, edgecolor='k', alpha=0.5)\n",
    "\n",
    "# Plot the KDE as fitted using the default arguments\n",
    "ax.plot(kde.support, kde.density, lw=3, label='KDE from samples', zorder=10)\n",
    "\n",
    "# Plot the true distribution\n",
    "true_values = (stats.norm.pdf(loc=dist1_loc, scale=dist1_scale, x=kde.support)*weight1\n",
    "              + stats.norm.pdf(loc=dist2_loc, scale=dist2_scale, x=kde.support)*weight2)\n",
    "ax.plot(kde.support, true_values, lw=3, label='True distribution', zorder=15)\n",
    "\n",
    "# Plot the samples\n",
    "ax.scatter(obs_dist, np.abs(np.random.randn(obs_dist.size))/40, \n",
    "           marker='x', color='red', zorder=20, label='Samples', alpha=0.5)\n",
    "\n",
    "ax.legend(loc='best')\n",
    "ax.grid(True, zorder=-5)"
   ]
  }
 ],
 "metadata": {
  "celltoolbar": "Slideshow",
  "kernelspec": {
   "display_name": "Python 3",
   "language": "python",
   "name": "python3"
  },
  "language_info": {
   "codemirror_mode": {
    "name": "ipython",
    "version": 3
   },
   "file_extension": ".py",
   "mimetype": "text/x-python",
   "name": "python",
   "nbconvert_exporter": "python",
   "pygments_lexer": "ipython3",
   "version": "3.7.2"
  },
  "org": null
 },
 "nbformat": 4,
 "nbformat_minor": 1
}
