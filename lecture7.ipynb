{
 "cells": [
  {
   "cell_type": "markdown",
   "metadata": {
    "slideshow": {
     "slide_type": "slide"
    }
   },
   "source": [
    "## File I/O with Numpy\n",
    "\n"
   ]
  },
  {
   "cell_type": "markdown",
   "metadata": {},
   "source": [
    "Saving and loading data from disk\n",
    "\n"
   ]
  },
  {
   "cell_type": "code",
   "execution_count": 3,
   "metadata": {},
   "outputs": [
    {
     "data": {
      "text/plain": [
       "array([0, 1, 2, 3, 4, 5, 6, 7, 8, 9])"
      ]
     },
     "execution_count": 3,
     "metadata": {},
     "output_type": "execute_result"
    }
   ],
   "source": [
    "import numpy as np\n",
    "arr = np.arange(10)\n",
    "np.save('some_array', arr)\n",
    "np.load('some_array.npy')"
   ]
  },
  {
   "cell_type": "markdown",
   "metadata": {
    "slideshow": {
     "slide_type": "slide"
    }
   },
   "source": [
    "Saving multiple arrays and compressing them\n",
    "\n"
   ]
  },
  {
   "cell_type": "code",
   "execution_count": 11,
   "metadata": {},
   "outputs": [
    {
     "data": {
      "text/plain": [
       "array([0, 1, 2, 3, 4, 5, 6, 7, 8, 9])"
      ]
     },
     "execution_count": 11,
     "metadata": {},
     "output_type": "execute_result"
    }
   ],
   "source": [
    "np.savez('array_archive.npz', a=arr, b=arr)\n",
    "x = np.load('array_archive.npz')\n",
    "x['b']"
   ]
  },
  {
   "cell_type": "code",
   "execution_count": null,
   "metadata": {},
   "outputs": [],
   "source": []
  },
  {
   "cell_type": "markdown",
   "metadata": {
    "slideshow": {
     "slide_type": "slide"
    }
   },
   "source": [
    "## Random number generation\n",
    "\n"
   ]
  },
  {
   "cell_type": "markdown",
   "metadata": {},
   "source": [
    "Numpy contains a number of probability distributions\n",
    "\n"
   ]
  },
  {
   "cell_type": "code",
   "execution_count": 12,
   "metadata": {},
   "outputs": [
    {
     "data": {
      "text/plain": [
       "array([[-0.61402143, -1.33548473, -0.00311146, -0.2406352 ],\n",
       "       [ 0.45929834, -0.47876499, -0.8586241 , -1.26698214],\n",
       "       [ 1.09175499,  0.02328325, -0.09353014,  1.29546524],\n",
       "       [-0.49234998, -0.71758151,  1.12832772, -0.76607812]])"
      ]
     },
     "execution_count": 12,
     "metadata": {},
     "output_type": "execute_result"
    }
   ],
   "source": [
    "samples = np.random.normal(0, 1, (4,4))\n",
    "samples"
   ]
  },
  {
   "cell_type": "markdown",
   "metadata": {
    "slideshow": {
     "slide_type": "slide"
    }
   },
   "source": [
    "Partial list of `np.random` functions\n",
    "![img](images/numpy_random.png)\n",
    "\n"
   ]
  },
  {
   "cell_type": "markdown",
   "metadata": {
    "slideshow": {
     "slide_type": "slide"
    }
   },
   "source": [
    "## Example: Random walk\n",
    "\n"
   ]
  },
  {
   "cell_type": "markdown",
   "metadata": {},
   "source": [
    "> A random walk is a stochastic process that describes a path that consists of a succession of random steps on some mathematical space such as the integers. An elementary example of a random walk is the random walk on the integer number line, $\\mathbb {Z}$ , which starts at 0 and at each step moves +1 or −1 with equal probability1. Simulate a random walk of 1000 steps with two implementations (one with loops and one with Numpy)\n",
    "\n",
    "1.  What is the farthest position reached during the random walk?\n",
    "2.  How long did it take to cross step 10 in either direction (*first crossing time*)?\n",
    "\n"
   ]
  },
  {
   "cell_type": "code",
   "execution_count": 39,
   "metadata": {
    "slideshow": {
     "slide_type": "slide"
    }
   },
   "outputs": [
    {
     "data": {
      "text/plain": [
       "55"
      ]
     },
     "execution_count": 39,
     "metadata": {},
     "output_type": "execute_result"
    }
   ],
   "source": [
    "import random\n",
    "\n",
    "def randomWalkWithLoop(nsteps=1000):\n",
    "    \"\"\"Simulate a 1D random walk.\"\"\"\n",
    "    position = 0\n",
    "    walk = [position]\n",
    "    for step in range(nsteps):\n",
    "        stepping = 1 if random.randint(0, 1) else -1\n",
    "        position += stepping\n",
    "        walk.append(position)\n",
    "    return walk\n",
    "\n",
    "def randomWalkWithArrays(nsteps=1000):\n",
    "    \"\"\"Simulate a 1D random walk.\"\"\"\n",
    "    draws = np.random.randint(0, 2, nsteps)\n",
    "    steps = np.where(draws > 0, 1, -1)\n",
    "    walk = steps.cumsum()\n",
    "    return walk\n",
    "\n",
    "#walk = randomWalkWithArrays()\n",
    "#import matplotlib.pyplot as plt\n",
    "#plt.plot(walk);\n",
    "np.where(abs(walk) >= 10)[0][0]"
   ]
  },
  {
   "cell_type": "code",
   "execution_count": null,
   "metadata": {},
   "outputs": [],
   "source": []
  },
  {
   "cell_type": "markdown",
   "metadata": {
    "slideshow": {
     "slide_type": "slide"
    }
   },
   "source": [
    "## Real-world application of a random walk model\n",
    "\n"
   ]
  },
  {
   "cell_type": "markdown",
   "metadata": {},
   "source": [
    "![img](images/riddle1.png)\n",
    "\n"
   ]
  },
  {
   "cell_type": "markdown",
   "metadata": {
    "slideshow": {
     "slide_type": "slide"
    }
   },
   "source": [
    "![img](images/riddle2.png)\n",
    "\n"
   ]
  },
  {
   "cell_type": "markdown",
   "metadata": {
    "slideshow": {
     "slide_type": "slide"
    }
   },
   "source": [
    "### Model implementation\n",
    "\n"
   ]
  },
  {
   "cell_type": "markdown",
   "metadata": {},
   "source": [
    "We will assume an initial volume of 200x200x1 meters, and a hypothetical spill of 25 kg. The safe concentration is 0.005 mg/l, and the displacement of the spill is given by\n",
    "$$\\Delta x = U (p+1) \\left( \\frac{Z_{0}+\\Delta z}{d} \\right)^{p} dt + f_{x} \\alpha$$\n",
    "\n",
    "$$\\Delta y = V (p+1) \\left( \\frac{Z_{0}+\\Delta z}{d} \\right)^{p} dt + f_{y} \\beta$$\n",
    "\n",
    "$$\\Delta z = f_{z} \\gamma$$\n",
    "\n",
    "where $U=0.01$m/s, $V=0.01$m/s, $p=0.192$, $Z{0}=8.6$m, $d=1.0$m. How long will it take for the concentration to reach safe levels? Assume a time step of 60s.\n",
    "\n"
   ]
  },
  {
   "cell_type": "code",
   "execution_count": 1,
   "metadata": {},
   "outputs": [],
   "source": []
  }
 ],
 "metadata": {
  "celltoolbar": "Slideshow",
  "kernelspec": {
   "display_name": "Python 3",
   "language": "python",
   "name": "python3"
  },
  "language_info": {
   "codemirror_mode": {
    "name": "ipython",
    "version": 3
   },
   "file_extension": ".py",
   "mimetype": "text/x-python",
   "name": "python",
   "nbconvert_exporter": "python",
   "pygments_lexer": "ipython3",
   "version": "3.7.2"
  },
  "org": null
 },
 "nbformat": 4,
 "nbformat_minor": 1
}
